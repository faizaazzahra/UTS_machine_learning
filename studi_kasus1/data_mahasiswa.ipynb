{
 "cells": [
  {
   "cell_type": "code",
   "execution_count": 6,
   "metadata": {},
   "outputs": [
    {
     "data": {
      "text/html": [
       "<div>\n",
       "<style scoped>\n",
       "    .dataframe tbody tr th:only-of-type {\n",
       "        vertical-align: middle;\n",
       "    }\n",
       "\n",
       "    .dataframe tbody tr th {\n",
       "        vertical-align: top;\n",
       "    }\n",
       "\n",
       "    .dataframe thead th {\n",
       "        text-align: right;\n",
       "    }\n",
       "</style>\n",
       "<table border=\"1\" class=\"dataframe\">\n",
       "  <thead>\n",
       "    <tr style=\"text-align: right;\">\n",
       "      <th></th>\n",
       "      <th>Hari</th>\n",
       "      <th>Datang</th>\n",
       "      <th>Biaya</th>\n",
       "      <th>Mahasiswa</th>\n",
       "    </tr>\n",
       "  </thead>\n",
       "  <tbody>\n",
       "    <tr>\n",
       "      <th>0</th>\n",
       "      <td>Senin</td>\n",
       "      <td>2</td>\n",
       "      <td>30000</td>\n",
       "      <td>Ani</td>\n",
       "    </tr>\n",
       "    <tr>\n",
       "      <th>1</th>\n",
       "      <td>Selasa</td>\n",
       "      <td>3</td>\n",
       "      <td>35000</td>\n",
       "      <td>Budi</td>\n",
       "    </tr>\n",
       "    <tr>\n",
       "      <th>2</th>\n",
       "      <td>Rabu</td>\n",
       "      <td>4</td>\n",
       "      <td>25000</td>\n",
       "      <td>Jono</td>\n",
       "    </tr>\n",
       "    <tr>\n",
       "      <th>3</th>\n",
       "      <td>Kamis</td>\n",
       "      <td>1</td>\n",
       "      <td>15000</td>\n",
       "      <td>Lono</td>\n",
       "    </tr>\n",
       "    <tr>\n",
       "      <th>4</th>\n",
       "      <td>Jumat</td>\n",
       "      <td>2</td>\n",
       "      <td>20000</td>\n",
       "      <td>Joni</td>\n",
       "    </tr>\n",
       "    <tr>\n",
       "      <th>5</th>\n",
       "      <td>Sabtu</td>\n",
       "      <td>5</td>\n",
       "      <td>30000</td>\n",
       "      <td>Ani</td>\n",
       "    </tr>\n",
       "    <tr>\n",
       "      <th>6</th>\n",
       "      <td>Minggu</td>\n",
       "      <td>2</td>\n",
       "      <td>35000</td>\n",
       "      <td>Budi</td>\n",
       "    </tr>\n",
       "  </tbody>\n",
       "</table>\n",
       "</div>"
      ],
      "text/plain": [
       "     Hari  Datang  Biaya Mahasiswa\n",
       "0   Senin       2  30000       Ani\n",
       "1  Selasa       3  35000      Budi\n",
       "2    Rabu       4  25000      Jono\n",
       "3   Kamis       1  15000      Lono\n",
       "4   Jumat       2  20000      Joni\n",
       "5   Sabtu       5  30000       Ani\n",
       "6  Minggu       2  35000      Budi"
      ]
     },
     "execution_count": 6,
     "metadata": {},
     "output_type": "execute_result"
    }
   ],
   "source": [
    "import pandas as pd\n",
    "\n",
    "data = {\n",
    "    'Hari': ['Senin', 'Selasa', 'Rabu', 'Kamis', 'Jumat', 'Sabtu', 'Minggu'],\n",
    "    'Datang': [2, 3, 4, 1, 2, 5, 2],\n",
    "    'Biaya': [30000, 35000, 25000, 15000, 20000, 30000, 35000],\n",
    "    'Mahasiswa': ['Ani', 'Budi', 'Jono', 'Lono', 'Joni', 'Ani', 'Budi'],\n",
    "}\n",
    "\n",
    "df = pd.DataFrame(data)\n",
    "df\n"
   ]
  },
  {
   "cell_type": "code",
   "execution_count": 3,
   "metadata": {},
   "outputs": [
    {
     "data": {
      "text/html": [
       "<div>\n",
       "<style scoped>\n",
       "    .dataframe tbody tr th:only-of-type {\n",
       "        vertical-align: middle;\n",
       "    }\n",
       "\n",
       "    .dataframe tbody tr th {\n",
       "        vertical-align: top;\n",
       "    }\n",
       "\n",
       "    .dataframe thead th {\n",
       "        text-align: right;\n",
       "    }\n",
       "</style>\n",
       "<table border=\"1\" class=\"dataframe\">\n",
       "  <thead>\n",
       "    <tr style=\"text-align: right;\">\n",
       "      <th></th>\n",
       "      <th>Hari</th>\n",
       "      <th>Datang</th>\n",
       "      <th>Biaya</th>\n",
       "      <th>Mahasiswa</th>\n",
       "      <th>Total Biaya</th>\n",
       "    </tr>\n",
       "  </thead>\n",
       "  <tbody>\n",
       "    <tr>\n",
       "      <th>0</th>\n",
       "      <td>Senin</td>\n",
       "      <td>2</td>\n",
       "      <td>30000</td>\n",
       "      <td>Ani</td>\n",
       "      <td>60000</td>\n",
       "    </tr>\n",
       "    <tr>\n",
       "      <th>1</th>\n",
       "      <td>Selasa</td>\n",
       "      <td>3</td>\n",
       "      <td>35000</td>\n",
       "      <td>Budi</td>\n",
       "      <td>105000</td>\n",
       "    </tr>\n",
       "    <tr>\n",
       "      <th>2</th>\n",
       "      <td>Rabu</td>\n",
       "      <td>4</td>\n",
       "      <td>25000</td>\n",
       "      <td>Jono</td>\n",
       "      <td>100000</td>\n",
       "    </tr>\n",
       "    <tr>\n",
       "      <th>3</th>\n",
       "      <td>Kamis</td>\n",
       "      <td>1</td>\n",
       "      <td>15000</td>\n",
       "      <td>Lono</td>\n",
       "      <td>15000</td>\n",
       "    </tr>\n",
       "    <tr>\n",
       "      <th>4</th>\n",
       "      <td>Jumat</td>\n",
       "      <td>2</td>\n",
       "      <td>20000</td>\n",
       "      <td>Joni</td>\n",
       "      <td>40000</td>\n",
       "    </tr>\n",
       "    <tr>\n",
       "      <th>5</th>\n",
       "      <td>Sabtu</td>\n",
       "      <td>5</td>\n",
       "      <td>30000</td>\n",
       "      <td>Ani</td>\n",
       "      <td>150000</td>\n",
       "    </tr>\n",
       "    <tr>\n",
       "      <th>6</th>\n",
       "      <td>Minggu</td>\n",
       "      <td>2</td>\n",
       "      <td>35000</td>\n",
       "      <td>Budi</td>\n",
       "      <td>70000</td>\n",
       "    </tr>\n",
       "  </tbody>\n",
       "</table>\n",
       "</div>"
      ],
      "text/plain": [
       "     Hari  Datang  Biaya Mahasiswa  Total Biaya\n",
       "0   Senin       2  30000       Ani        60000\n",
       "1  Selasa       3  35000      Budi       105000\n",
       "2    Rabu       4  25000      Jono       100000\n",
       "3   Kamis       1  15000      Lono        15000\n",
       "4   Jumat       2  20000      Joni        40000\n",
       "5   Sabtu       5  30000       Ani       150000\n",
       "6  Minggu       2  35000      Budi        70000"
      ]
     },
     "execution_count": 3,
     "metadata": {},
     "output_type": "execute_result"
    }
   ],
   "source": [
    "df['Total Biaya'] = df['Biaya'] * df['Datang']\n",
    "df"
   ]
  },
  {
   "cell_type": "code",
   "execution_count": 5,
   "metadata": {},
   "outputs": [
    {
     "data": {
      "text/plain": [
       "2.7142857142857144"
      ]
     },
     "execution_count": 5,
     "metadata": {},
     "output_type": "execute_result"
    }
   ],
   "source": [
    "average_datang = df['Datang'].mean()\n",
    "average_datang"
   ]
  },
  {
   "cell_type": "code",
   "execution_count": 9,
   "metadata": {},
   "outputs": [
    {
     "name": "stdout",
     "output_type": "stream",
     "text": [
      "Hari            Sabtu\n",
      "Datang              5\n",
      "Biaya           30000\n",
      "Mahasiswa         Ani\n",
      "Total Biaya    150000\n",
      "Name: 5, dtype: object\n"
     ]
    }
   ],
   "source": [
    "df['Total Biaya']=df['Biaya']*df['Datang']\n",
    "highest_cost_day = df.loc[df['Total Biaya'].idxmax()]\n",
    "print(highest_cost_day)"
   ]
  },
  {
   "cell_type": "code",
   "execution_count": 20,
   "metadata": {},
   "outputs": [
    {
     "name": "stdout",
     "output_type": "stream",
     "text": [
      "5    Sabtu\n",
      "Name: Hari, dtype: object\n"
     ]
    }
   ],
   "source": [
    "df['Total Biaya'] = df['Biaya']*df['Datang']\n",
    "days_above_threshold = df[df['Total Biaya'] > 110000]['Hari']\n",
    "print(days_above_threshold)"
   ]
  },
  {
   "cell_type": "code",
   "execution_count": 14,
   "metadata": {},
   "outputs": [
    {
     "data": {
      "text/plain": [
       "'Ani'"
      ]
     },
     "execution_count": 14,
     "metadata": {},
     "output_type": "execute_result"
    }
   ],
   "source": [
    "most_frequent_visitor = df['Mahasiswa'].value_counts().idxmax()\n",
    "most_frequent_visitor"
   ]
  },
  {
   "cell_type": "code",
   "execution_count": 15,
   "metadata": {},
   "outputs": [
    {
     "name": "stdout",
     "output_type": "stream",
     "text": [
      "Budi\n"
     ]
    }
   ],
   "source": [
    "visitor_on_sunday = df[df['Hari'] == 'Minggu']['Mahasiswa'].values[0]\n",
    "print(visitor_on_sunday)"
   ]
  },
  {
   "cell_type": "code",
   "execution_count": 17,
   "metadata": {},
   "outputs": [
    {
     "name": "stdout",
     "output_type": "stream",
     "text": [
      "Biaya tertinggi: 150000\n",
      "Biaya terendah: 15000\n"
     ]
    }
   ],
   "source": [
    "df['Total Biaya']=df['Biaya']*df['Datang']\n",
    "biaya_tertinggi = df['Total Biaya'].max()\n",
    "biaya_terendah = df['Total Biaya'].min()\n",
    "\n",
    "print(\"Biaya tertinggi:\", biaya_tertinggi)\n",
    "print(\"Biaya terendah:\", biaya_terendah)"
   ]
  },
  {
   "cell_type": "code",
   "execution_count": 13,
   "metadata": {},
   "outputs": [
    {
     "ename": "NameError",
     "evalue": "name 'df' is not defined",
     "output_type": "error",
     "traceback": [
      "\u001b[0;31m---------------------------------------------------------------------------\u001b[0m",
      "\u001b[0;31mNameError\u001b[0m                                 Traceback (most recent call last)",
      "Cell \u001b[0;32mIn[13], line 1\u001b[0m\n\u001b[0;32m----> 1\u001b[0m datang_tertinggi \u001b[38;5;241m=\u001b[39m \u001b[43mdf\u001b[49m[\u001b[38;5;124m'\u001b[39m\u001b[38;5;124mDatang\u001b[39m\u001b[38;5;124m'\u001b[39m]\u001b[38;5;241m.\u001b[39mmax()\n\u001b[1;32m      2\u001b[0m datang_terendah \u001b[38;5;241m=\u001b[39m df[\u001b[38;5;124m'\u001b[39m\u001b[38;5;124mDatang\u001b[39m\u001b[38;5;124m'\u001b[39m]\u001b[38;5;241m.\u001b[39mmin()\n\u001b[1;32m      4\u001b[0m \u001b[38;5;28mprint\u001b[39m(\u001b[38;5;124m\"\u001b[39m\u001b[38;5;124mFrekuensi tertinggi:\u001b[39m\u001b[38;5;124m\"\u001b[39m, datang_tertinggi)\n",
      "\u001b[0;31mNameError\u001b[0m: name 'df' is not defined"
     ]
    }
   ],
   "source": [
    "datang_tertinggi = df['Datang'].max()\n",
    "datang_terendah = df['Datang'].min()\n",
    "\n",
    "print(\"Frekuensi tertinggi:\", datang_tertinggi)\n",
    "print(\"Frekuensi terendah:\", datang_terendah)"
   ]
  }
 ],
 "metadata": {
  "kernelspec": {
   "display_name": "Python 3",
   "language": "python",
   "name": "python3"
  },
  "language_info": {
   "codemirror_mode": {
    "name": "ipython",
    "version": 3
   },
   "file_extension": ".py",
   "mimetype": "text/x-python",
   "name": "python",
   "nbconvert_exporter": "python",
   "pygments_lexer": "ipython3",
   "version": "3.10.12"
  }
 },
 "nbformat": 4,
 "nbformat_minor": 2
}
